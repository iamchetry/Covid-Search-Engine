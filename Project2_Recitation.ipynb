{
 "cells": [
  {
   "cell_type": "markdown",
   "metadata": {
    "id": "K5eqaIJ1XCBR"
   },
   "source": [
    "# **CSE 435/535 Project 2 Recitation**\n",
    "\n"
   ]
  },
  {
   "cell_type": "markdown",
   "metadata": {
    "id": "24SrOzVfXKEO"
   },
   "source": [
    "## Preprocessing examples\n",
    "###Example 1###\n",
    "\n",
    "**Doc id**: 38604\t\n",
    "\n",
    "**Doc text**: Management of ophthalmic perioperative period during 2019 novel coronavirus disease outbreak/ 新型冠状病毒肺炎疫情下眼科患者围手术期管理实践\n",
    "\n",
    "**Doc tokens**: ['manag', 'ophthalm', 'periop', 'period', '2019', 'novel', 'coronaviru', 'diseas', 'outbreak']\n"
   ]
  },
  {
   "cell_type": "markdown",
   "metadata": {
    "id": "ryyuMYoLXKGv"
   },
   "source": [
    "\n",
    "###Example 2###\n",
    "**Doc id**: 8413\t\n",
    "\n",
    "**Doc text**: \"Tomar o no tomar «decisiones en caliente¼ respecto al tratamiento de la infección por SARS-CoV-2./ [Whether to make decisions \"\"on the fly\"\" regarding treatment for SARS-CoV-2 infection]\"\n",
    "\n",
    "**Doc tokens**: ['tomar', 'tomar', 'decision', 'en', 'calient', 'respecto', 'al', 'tratamiento', 'de', 'la', 'infecci', 'n', 'por', 'sar', 'cov', '2', 'whether', 'make', 'decis', 'fli', 'regard', 'treatment', 'sar', 'cov', '2', 'infect']\n"
   ]
  },
  {
   "cell_type": "markdown",
   "metadata": {
    "id": "myDZFmKdYFkf"
   },
   "source": [
    "\n",
    "###Example 3###\n",
    "**Doc id**: 55745\t\n",
    "\n",
    "**Doc text**: \"Aufgaben und Funktion der Ständigen Arbeitsgemeinschaft der Kompetenz- und Behandlungszentren für hochkontagiöse, lebensbedrohliche Erkrankungen\"\n",
    "\n",
    "**Doc tokens**: ['aufgaben', 'und', 'funktion', 'der', 'st', 'ndigen', 'arbeitsgemeinschaft', 'der', 'kompetenz', 'und', 'behandlungszentren', 'f', 'r', 'hochkontagi', 'se', 'lebensbedrohlich', 'erkrankungen']\n"
   ]
  },
  {
   "cell_type": "markdown",
   "metadata": {
    "id": "p7su7VMDYUic"
   },
   "source": [
    "# Linked Lists for creating Postings lists in Python 3"
   ]
  },
  {
   "cell_type": "markdown",
   "metadata": {
    "id": "54zhX1tDYFmr"
   },
   "source": [
    "![image.png](data:image/png;base64,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)"
   ]
  },
  {
   "cell_type": "markdown",
   "metadata": {
    "id": "kc6PEzqsYiar"
   },
   "source": [
    "### Why bother with linked lists?\n",
    "\n",
    "1. **Efficiency**: Faster inserts. Contigious memory not required. \n",
    "2. **Control**: Each node in the linked list can be a complex data structure. Nested linked lists.\n",
    "3. **Learning**: Desired from a learning point of view, where you can get a feel of the considerations to keep in mind, and the bottlenecks while creating postings lists.\n",
    "\n",
    "Reference:https://www.quora.com/What-is-the-purpose-of-using-a-linked-list-in-Python"
   ]
  },
  {
   "cell_type": "markdown",
   "metadata": {
    "id": "9P1frguFYidi"
   },
   "source": [
    "### Linked List Demonstration"
   ]
  },
  {
   "cell_type": "code",
   "execution_count": 102,
   "metadata": {
    "id": "f2NeZGrtbBte"
   },
   "outputs": [],
   "source": [
    "# The data structure for every element in the linked list. \n",
    "class Node:\n",
    "    def __init__(self, value = None, next = None):\n",
    "        self.value = value\n",
    "        self.next = next"
   ]
  },
  {
   "cell_type": "code",
   "execution_count": 103,
   "metadata": {
    "id": "a0PtCy7YXCV9"
   },
   "outputs": [],
   "source": [
    "#The linked list\n",
    "class LinkedList:\n",
    "\n",
    "    def __init__(self):\n",
    "        self.start_node = None # Head pointer\n",
    "        self.end_node = None # Tail pointer\n",
    "\n",
    "    # Method to traverse a created linked list\n",
    "    def traverse_list(self):\n",
    "        traversal = []\n",
    "        if self.start_node is None:\n",
    "            print(\"List has no element\")\n",
    "            return\n",
    "        else:\n",
    "            n = self.start_node\n",
    "            # Start traversal from head, and go on till you reach None\n",
    "            while n is not None:\n",
    "                traversal.append(n.value)\n",
    "                n = n.next\n",
    "            return traversal\n",
    "\n",
    "    # Method to insert elements in the linked list\n",
    "    def insert_at_end(self, value):\n",
    "        new_node = Node(value=value)\n",
    "        n = self.start_node\n",
    "\n",
    "        if self.start_node is None:\n",
    "            self.start_node = new_node\n",
    "            self.end_node = new_node\n",
    "            return\n",
    "\n",
    "        elif self.start_node.value >= value:\n",
    "            self.start_node = new_node\n",
    "            self.start_node.next = n\n",
    "            return\n",
    "\n",
    "        elif self.end_node.value <= value:\n",
    "            self.end_node.next = new_node\n",
    "            self.end_node = new_node\n",
    "            return\n",
    "\n",
    "        else:\n",
    "            while n.value < value < self.end_node.value and n.next is not None:\n",
    "                n = n.next\n",
    "\n",
    "            m = self.start_node\n",
    "            while m.next != n and m.next is not None:\n",
    "                m = m.next\n",
    "            m.next = new_node\n",
    "            new_node.next = n\n",
    "            return\n"
   ]
  },
  {
   "cell_type": "markdown",
   "metadata": {
    "id": "z-rasWXodPCB"
   },
   "source": [
    "### Linked list of integers"
   ]
  },
  {
   "cell_type": "code",
   "execution_count": 91,
   "metadata": {
    "colab": {
     "base_uri": "https://localhost:8080/"
    },
    "id": "6UxGWLljdCTR",
    "outputId": "fc1e5831-d91a-4621-c650-6ccd936dc89f"
   },
   "outputs": [
    {
     "name": "stdout",
     "output_type": "stream",
     "text": [
      "<__main__.LinkedList object at 0x7fcfce3efbe0>\n"
     ]
    }
   ],
   "source": [
    "linked_list = LinkedList() #Initialize\n",
    "print(linked_list)"
   ]
  },
  {
   "cell_type": "code",
   "execution_count": 92,
   "metadata": {
    "colab": {
     "base_uri": "https://localhost:8080/"
    },
    "id": "lS7r7MyCdXJF",
    "outputId": "13454d43-5387-4c15-e85d-6626502fdfcf"
   },
   "outputs": [
    {
     "name": "stdout",
     "output_type": "stream",
     "text": [
      "List has no element\n"
     ]
    }
   ],
   "source": [
    "#The list is empty\n",
    "linked_list.traverse_list()"
   ]
  },
  {
   "cell_type": "code",
   "execution_count": 104,
   "metadata": {
    "colab": {
     "base_uri": "https://localhost:8080/"
    },
    "id": "tXazYUIrdaPV",
    "outputId": "44b7f761-1c69-4641-b302-30e9f1a72390"
   },
   "outputs": [
    {
     "data": {
      "text/plain": [
       "[7, 7, 7, 7]"
      ]
     },
     "execution_count": 104,
     "metadata": {},
     "output_type": "execute_result"
    }
   ],
   "source": [
    "#Insert one integer in the list\n",
    "linked_list.insert_at_end(7)\n",
    "linked_list.traverse_list()"
   ]
  },
  {
   "cell_type": "code",
   "execution_count": 105,
   "metadata": {},
   "outputs": [],
   "source": [
    "l = linked_list.traverse_list()"
   ]
  },
  {
   "cell_type": "code",
   "execution_count": 109,
   "metadata": {},
   "outputs": [
    {
     "data": {
      "text/plain": [
       "0"
      ]
     },
     "execution_count": 109,
     "metadata": {},
     "output_type": "execute_result"
    }
   ],
   "source": [
    "l.count(0)"
   ]
  },
  {
   "cell_type": "code",
   "execution_count": 44,
   "metadata": {
    "colab": {
     "base_uri": "https://localhost:8080/"
    },
    "id": "-aB81NW6dgbF",
    "outputId": "eedf2eec-9f50-47f1-b15e-7dfc542bb5e1"
   },
   "outputs": [
    {
     "data": {
      "text/plain": [
       "(<__main__.Node at 0x7fcfce8e6630>, <__main__.Node at 0x7fcfce8e6198>)"
      ]
     },
     "execution_count": 44,
     "metadata": {},
     "output_type": "execute_result"
    }
   ],
   "source": [
    "#Note how start_node & end_node have same memory location\n",
    "linked_list.start_node, linked_list.end_node"
   ]
  },
  {
   "cell_type": "code",
   "execution_count": 32,
   "metadata": {
    "colab": {
     "base_uri": "https://localhost:8080/"
    },
    "id": "XIJ8nE7ddjS9",
    "outputId": "342fea41-65ba-4165-a6c9-97db66fc62e2"
   },
   "outputs": [
    {
     "data": {
      "text/plain": [
       "[None, None, None, None, None, None]"
      ]
     },
     "execution_count": 32,
     "metadata": {},
     "output_type": "execute_result"
    }
   ],
   "source": [
    "#Let's insert a few more elements\n",
    "[linked_list.insert_at_end(i) for i in [42, 111, 13, 29, 7, -11]]"
   ]
  },
  {
   "cell_type": "code",
   "execution_count": 85,
   "metadata": {
    "colab": {
     "base_uri": "https://localhost:8080/"
    },
    "id": "e3cvh85ydpnm",
    "outputId": "82e4eb8c-0aa7-4309-8f16-dd75962e7fc8"
   },
   "outputs": [
    {
     "data": {
      "text/plain": [
       "[-11, 7, 7, 7, 7, 13, 29, 33, 42, 111]"
      ]
     },
     "execution_count": 85,
     "metadata": {},
     "output_type": "execute_result"
    }
   ],
   "source": [
    "#Already sorted!\n",
    "linked_list.traverse_list()"
   ]
  },
  {
   "cell_type": "code",
   "execution_count": 34,
   "metadata": {
    "colab": {
     "base_uri": "https://localhost:8080/"
    },
    "id": "TqQkLNkpdsiV",
    "outputId": "d0136316-3586-48b6-81c2-1d8d8897e212"
   },
   "outputs": [
    {
     "data": {
      "text/plain": [
       "(<__main__.Node at 0x7fcfce8e6630>, <__main__.Node at 0x7fcfce8e6198>)"
      ]
     },
     "execution_count": 34,
     "metadata": {},
     "output_type": "execute_result"
    }
   ],
   "source": [
    "#Note how start_node & end_node refer to different locations now\n",
    "linked_list.start_node, linked_list.end_node"
   ]
  },
  {
   "cell_type": "markdown",
   "metadata": {
    "id": "-VQ_NUcpd9Yr"
   },
   "source": [
    "### Linked list with additional data"
   ]
  },
  {
   "cell_type": "code",
   "execution_count": 1,
   "metadata": {
    "id": "uXSZfQUYdEJq"
   },
   "outputs": [],
   "source": [
    "class Node:\n",
    "    def __init__(self, value=None, next=None, name=None, age=None, doc=None):\n",
    "        self.value = value\n",
    "        self.next = next\n",
    "        self.name = name\n",
    "        self.age = age\n",
    "        self.doc=doc"
   ]
  },
  {
   "cell_type": "code",
   "execution_count": 7,
   "metadata": {
    "id": "B9ROy0_4dM6j"
   },
   "outputs": [],
   "source": [
    "from collections import OrderedDict\n",
    "#The linked list\n",
    "class LinkedList:\n",
    "\n",
    "    def __init__(self):\n",
    "        self.start_node = None # Head pointer\n",
    "        self.end_node = None # Tail pointer\n",
    "        self.n_students = 0\n",
    "\n",
    "    # Method to traverse a created linked list\n",
    "    def traverse_list(self):\n",
    "        traversal = []\n",
    "        if self.start_node is None:\n",
    "            print(\"List has no element\")\n",
    "            return\n",
    "        else:\n",
    "            n = self.start_node\n",
    "            # Start traversal from head, and go on till you reach None\n",
    "            while n is not None:\n",
    "                traversal.append([n.doc, n.value])\n",
    "                n = n.next\n",
    "            return traversal\n",
    "    \n",
    "    # Method to traverse a created linked list\n",
    "    def traverse_list_extra(self):\n",
    "        traversal = []\n",
    "        if self.start_node is None:\n",
    "            print(\"List has no element\")\n",
    "            return\n",
    "        else:\n",
    "            n = self.start_node\n",
    "            # Start traversal from head, and go on till you reach None\n",
    "            cnt = 1\n",
    "            while n is not None:\n",
    "                traversal.append(n.doc)\n",
    "                cnt += 1\n",
    "                n = n.next\n",
    "            return traversal\n",
    "\n",
    "    # Method to insert elements in the linked list\n",
    "    def insert_at_end(self, params):\n",
    "        value, name, age = params\n",
    "        new_node = Node(value=value, name=name, age=age)\n",
    "        self.n_students += 1\n",
    "        n = self.start_node\n",
    "\n",
    "        if self.start_node is None:\n",
    "            self.start_node = new_node\n",
    "            self.end_node = new_node\n",
    "            return\n",
    "\n",
    "        elif self.start_node.value <= value:\n",
    "            self.start_node = new_node\n",
    "            self.start_node.next = n\n",
    "            return\n",
    "\n",
    "        elif self.end_node.value >= value:\n",
    "            self.end_node.next = new_node\n",
    "            self.end_node = new_node\n",
    "            return\n",
    "\n",
    "        else:\n",
    "            while n.value > value > self.end_node.value and n.next is not None:\n",
    "                n = n.next\n",
    "\n",
    "            m = self.start_node\n",
    "            while m.next != n and m.next is not None:\n",
    "                m = m.next\n",
    "            m.next = new_node\n",
    "            new_node.next = n\n",
    "            return\n",
    "        \n",
    "    def insert_at_end_tfidf(self, params):\n",
    "        value, doc = params\n",
    "        new_node = Node(value=value, doc=doc)\n",
    "        n = self.start_node\n",
    "\n",
    "        if self.start_node is None:\n",
    "            self.start_node = new_node\n",
    "            self.end_node = new_node\n",
    "            return\n",
    "\n",
    "        elif self.start_node.value <= value:\n",
    "            self.start_node = new_node\n",
    "            self.start_node.next = n\n",
    "            return\n",
    "\n",
    "        elif self.end_node.value >= value:\n",
    "            self.end_node.next = new_node\n",
    "            self.end_node = new_node\n",
    "            return\n",
    "\n",
    "        else:\n",
    "            while n.value > value > self.end_node.value and n.next is not None:\n",
    "                n = n.next\n",
    "\n",
    "            m = self.start_node\n",
    "            while m.next != n and m.next is not None:\n",
    "                m = m.next\n",
    "            m.next = new_node\n",
    "            new_node.next = n\n",
    "            return\n"
   ]
  },
  {
   "cell_type": "code",
   "execution_count": 8,
   "metadata": {
    "id": "A5IhqPyBd18T"
   },
   "outputs": [],
   "source": [
    "linked_list2 = LinkedList()\n",
    "\n",
    "#Student -> ID, name, age\n",
    "student1 = [100, 3]\n",
    "student2 = [100, 2]\n",
    "student3 = [55, 1]\n",
    "student4 = [82, 5]\n",
    "student5 = [75, 6]"
   ]
  },
  {
   "cell_type": "code",
   "execution_count": 9,
   "metadata": {
    "colab": {
     "base_uri": "https://localhost:8080/"
    },
    "id": "AhADboGGeLt3",
    "outputId": "e2ab0009-4b02-47cd-c934-02c32d90943a"
   },
   "outputs": [
    {
     "data": {
      "text/plain": [
       "[None, None, None, None, None]"
      ]
     },
     "execution_count": 9,
     "metadata": {},
     "output_type": "execute_result"
    }
   ],
   "source": [
    "#Let's insert the elements\n",
    "[linked_list2.insert_at_end_tfidf(i) for i in [student1, student2, student3, student4, student5]]"
   ]
  },
  {
   "cell_type": "code",
   "execution_count": 10,
   "metadata": {
    "colab": {
     "base_uri": "https://localhost:8080/"
    },
    "id": "xuy7aHDOebAI",
    "outputId": "f7ce8a09-b5b8-4cfc-8383-43c7461a2221"
   },
   "outputs": [
    {
     "data": {
      "text/plain": [
       "[[2, 100], [3, 100], [5, 82], [6, 75], [1, 55]]"
      ]
     },
     "execution_count": 10,
     "metadata": {},
     "output_type": "execute_result"
    }
   ],
   "source": [
    "#Already sorted by id\n",
    "linked_list2.traverse_list()"
   ]
  },
  {
   "cell_type": "code",
   "execution_count": 6,
   "metadata": {
    "colab": {
     "base_uri": "https://localhost:8080/"
    },
    "id": "joRPwJ8ben1R",
    "outputId": "a9520d26-a34f-4b72-8c98-15aa09c65c54"
   },
   "outputs": [
    {
     "data": {
      "text/plain": [
       "[2, 3, 5, 6, 1]"
      ]
     },
     "execution_count": 6,
     "metadata": {},
     "output_type": "execute_result"
    }
   ],
   "source": [
    "linked_list2.traverse_list_extra()"
   ]
  },
  {
   "cell_type": "code",
   "execution_count": 41,
   "metadata": {},
   "outputs": [
    {
     "data": {
      "text/plain": [
       "\"OrderedDict([('id', 55), ('name', 'Bob'), ('age', 21)])\\n\\t->OrderedDict([('id', 75), ('name', 'Keith'), ('age', 22)])\\n\\t\\t->OrderedDict([('id', 82), ('name', 'Kenny'), ('age', 23)])\\n\\t\\t\\t->OrderedDict([('id', 99), ('name', 'Alice'), ('age', 26)])\\n\\t\\t\\t\\t->OrderedDict([('id', 100), ('name', 'Max'), ('age', 22)])\\n\\t\\t\\t\\t\\t\""
      ]
     },
     "execution_count": 41,
     "metadata": {},
     "output_type": "execute_result"
    }
   ],
   "source": [
    "linked_list2.traverse_list_extra()"
   ]
  },
  {
   "cell_type": "code",
   "execution_count": 45,
   "metadata": {},
   "outputs": [],
   "source": [
    "d = OrderedDict({})"
   ]
  },
  {
   "cell_type": "code",
   "execution_count": 56,
   "metadata": {},
   "outputs": [],
   "source": [
    "d['a'] = 1"
   ]
  },
  {
   "cell_type": "code",
   "execution_count": 96,
   "metadata": {},
   "outputs": [],
   "source": [
    "d['b'] = dict()"
   ]
  },
  {
   "cell_type": "code",
   "execution_count": 100,
   "metadata": {},
   "outputs": [],
   "source": [
    "d['b']['c']=4"
   ]
  },
  {
   "cell_type": "code",
   "execution_count": 101,
   "metadata": {},
   "outputs": [
    {
     "data": {
      "text/plain": [
       "OrderedDict([('k', 3), ('a', 1), ('b', {'a': 5, 'c': 4})])"
      ]
     },
     "execution_count": 101,
     "metadata": {},
     "output_type": "execute_result"
    }
   ],
   "source": [
    "d"
   ]
  },
  {
   "cell_type": "code",
   "execution_count": null,
   "metadata": {},
   "outputs": [],
   "source": []
  },
  {
   "cell_type": "code",
   "execution_count": 110,
   "metadata": {
    "scrolled": true
   },
   "outputs": [
    {
     "name": "stdout",
     "output_type": "stream",
     "text": [
      "k\n",
      "a\n",
      "b\n"
     ]
    }
   ],
   "source": [
    "for _ in d:\n",
    "    print(_)"
   ]
  },
  {
   "cell_type": "code",
   "execution_count": 41,
   "metadata": {},
   "outputs": [],
   "source": [
    "myiter = iter(range(0, 10))"
   ]
  },
  {
   "cell_type": "code",
   "execution_count": 56,
   "metadata": {},
   "outputs": [],
   "source": [
    "def _merge(l1, l2):\n",
    "    \"\"\" Implement the merge algorithm to merge 2 postings list at a time.\n",
    "        Use appropriate parameters & return types.\n",
    "        While merging 2 postings list, preserve the maximum tf-idf value of a document.\n",
    "        To be implemented.\"\"\"\n",
    "    comp_ = 0\n",
    "    count_1 = 0\n",
    "    count_2 = 0\n",
    "    merged_list = list()\n",
    "\n",
    "    while count_1 < len(l1) and count_2 < len(l2):\n",
    "        if l1[count_1] == l2[count_2]:\n",
    "            comp_ = comp_ + 1\n",
    "            merged_list.append(l1[count_1])\n",
    "            count_1 = count_1 + 1\n",
    "            count_2 = count_2 + 1\n",
    "        elif l1[count_1] < l2[count_2]:\n",
    "            comp_ = comp_ + 1\n",
    "            count_1 = count_1 + 1\n",
    "        else:\n",
    "            comp_ = comp_ + 1\n",
    "            count_2 = count_2 + 1\n",
    "\n",
    "    return merged_list, comp_"
   ]
  },
  {
   "cell_type": "code",
   "execution_count": 66,
   "metadata": {},
   "outputs": [],
   "source": [
    "l1 = [1,5]\n",
    "l2=[7,9]"
   ]
  },
  {
   "cell_type": "code",
   "execution_count": 67,
   "metadata": {},
   "outputs": [
    {
     "data": {
      "text/plain": [
       "([], 2)"
      ]
     },
     "execution_count": 67,
     "metadata": {},
     "output_type": "execute_result"
    }
   ],
   "source": [
    "_merge(l2, l1)"
   ]
  },
  {
   "cell_type": "code",
   "execution_count": 68,
   "metadata": {},
   "outputs": [],
   "source": [
    "t = False"
   ]
  },
  {
   "cell_type": "code",
   "execution_count": 70,
   "metadata": {},
   "outputs": [],
   "source": [
    "if t:\n",
    "    print('hey')"
   ]
  },
  {
   "cell_type": "code",
   "execution_count": 12,
   "metadata": {},
   "outputs": [
    {
     "data": {
      "text/plain": [
       "4"
      ]
     },
     "execution_count": 12,
     "metadata": {},
     "output_type": "execute_result"
    }
   ],
   "source": [
    "max([1,2, 4])"
   ]
  },
  {
   "cell_type": "code",
   "execution_count": 17,
   "metadata": {},
   "outputs": [],
   "source": [
    "l1 = [5,7,4,8]\n",
    "l2=l1.copy()"
   ]
  },
  {
   "cell_type": "code",
   "execution_count": 20,
   "metadata": {},
   "outputs": [],
   "source": [
    "l1.sort(reverse=True)"
   ]
  },
  {
   "cell_type": "code",
   "execution_count": 21,
   "metadata": {},
   "outputs": [
    {
     "data": {
      "text/plain": [
       "[8, 7, 5, 4]"
      ]
     },
     "execution_count": 21,
     "metadata": {},
     "output_type": "execute_result"
    }
   ],
   "source": [
    "l1"
   ]
  },
  {
   "cell_type": "code",
   "execution_count": 24,
   "metadata": {},
   "outputs": [
    {
     "data": {
      "text/plain": [
       "2"
      ]
     },
     "execution_count": 24,
     "metadata": {},
     "output_type": "execute_result"
    }
   ],
   "source": [
    "l2.index(4)"
   ]
  },
  {
   "cell_type": "code",
   "execution_count": 4,
   "metadata": {},
   "outputs": [],
   "source": [
    "k = ['a', 'b', 'c', 'd', 'b']\n",
    "for _ in k:\n",
    "    if _ not in list(d.keys()):\n",
    "        d[_] = _\n",
    "        print(d)"
   ]
  },
  {
   "cell_type": "code",
   "execution_count": 5,
   "metadata": {},
   "outputs": [],
   "source": [
    "from collections import OrderedDict"
   ]
  },
  {
   "cell_type": "code",
   "execution_count": 6,
   "metadata": {},
   "outputs": [],
   "source": [
    "d = OrderedDict({'a': 'c'})"
   ]
  },
  {
   "cell_type": "code",
   "execution_count": 8,
   "metadata": {},
   "outputs": [
    {
     "data": {
      "text/plain": [
       "['a']"
      ]
     },
     "execution_count": 8,
     "metadata": {},
     "output_type": "execute_result"
    }
   ],
   "source": [
    "sorted(d.keys())"
   ]
  },
  {
   "cell_type": "code",
   "execution_count": 1,
   "metadata": {},
   "outputs": [],
   "source": [
    "for _ in []:\n",
    "    print(_)"
   ]
  },
  {
   "cell_type": "code",
   "execution_count": 11,
   "metadata": {},
   "outputs": [],
   "source": [
    "a1 = {1:1, 2:13, 6:4, 3:4, 4:2, 5:30}\n",
    "a1_sorted_keys = sorted(a1, key=a1.get, reverse=True)"
   ]
  },
  {
   "cell_type": "code",
   "execution_count": 12,
   "metadata": {},
   "outputs": [
    {
     "data": {
      "text/plain": [
       "{1: 1, 2: 13, 6: 4, 3: 4, 4: 2, 5: 30}"
      ]
     },
     "execution_count": 12,
     "metadata": {},
     "output_type": "execute_result"
    }
   ],
   "source": [
    "a1"
   ]
  },
  {
   "cell_type": "code",
   "execution_count": 13,
   "metadata": {},
   "outputs": [
    {
     "data": {
      "text/plain": [
       "[5, 2, 6, 3, 4, 1]"
      ]
     },
     "execution_count": 13,
     "metadata": {},
     "output_type": "execute_result"
    }
   ],
   "source": [
    "a1_sorted_keys"
   ]
  },
  {
   "cell_type": "code",
   "execution_count": 14,
   "metadata": {},
   "outputs": [
    {
     "data": {
      "text/plain": [
       "[1, 2, 3, 4, 5, 6]"
      ]
     },
     "execution_count": 14,
     "metadata": {},
     "output_type": "execute_result"
    }
   ],
   "source": [
    "sorted(a1.keys())"
   ]
  },
  {
   "cell_type": "code",
   "execution_count": 15,
   "metadata": {},
   "outputs": [
    {
     "ename": "ValueError",
     "evalue": "max() arg is an empty sequence",
     "output_type": "error",
     "traceback": [
      "\u001b[0;31m---------------------------------------------------------------------------\u001b[0m",
      "\u001b[0;31mValueError\u001b[0m                                Traceback (most recent call last)",
      "\u001b[0;32m<ipython-input-15-a48d8f8c12de>\u001b[0m in \u001b[0;36m<module>\u001b[0;34m\u001b[0m\n\u001b[0;32m----> 1\u001b[0;31m \u001b[0mmax\u001b[0m\u001b[0;34m(\u001b[0m\u001b[0;34m[\u001b[0m\u001b[0;34m]\u001b[0m\u001b[0;34m)\u001b[0m\u001b[0;34m\u001b[0m\u001b[0;34m\u001b[0m\u001b[0m\n\u001b[0m",
      "\u001b[0;31mValueError\u001b[0m: max() arg is an empty sequence"
     ]
    }
   ],
   "source": [
    "max([])"
   ]
  },
  {
   "cell_type": "code",
   "execution_count": 21,
   "metadata": {},
   "outputs": [],
   "source": [
    "def _merge(l1, l2, skip1, skip2):\n",
    "    \"\"\" Implement the merge algorithm to merge 2 postings list at a time.\n",
    "        Use appropriate parameters & return types.\n",
    "        While merging 2 postings list, preserve the maximum tf-idf value of a document.\n",
    "        To be implemented.\"\"\"\n",
    "    comp_ = 0\n",
    "    count_1 = 0\n",
    "    count_2 = 0\n",
    "    merged_list = list()\n",
    "\n",
    "    while count_1 < len(l1) and count_2 < len(l2):\n",
    "        if l1[count_1] == l2[count_2]:\n",
    "            comp_ = comp_ + 1\n",
    "            merged_list.append(l1[count_1])\n",
    "            count_1 = count_1 + 1\n",
    "            count_2 = count_2 + 1\n",
    "        elif l1[count_1] < l2[count_2]:\n",
    "            comp_ = comp_ + 1\n",
    "            count_1 = count_1 + 1 + skip1\n",
    "            if count_1 >= len(l1):\n",
    "                count_1 = count_1 - skip1\n",
    "            else:\n",
    "                if l1[count_1] > l2[count_2]:\n",
    "                    count_1 = count_1 - skip1\n",
    "        else:\n",
    "            comp_ = comp_ + 1\n",
    "            count_2 = count_2 + 1 + skip2\n",
    "            if count_2 >= len(l2):\n",
    "                count_2 = count_2 - skip2\n",
    "            else:\n",
    "                if l2[count_2] > l1[count_1]:\n",
    "                    count_2 = count_2 - skip2\n",
    "\n",
    "    return merged_list, comp_"
   ]
  },
  {
   "cell_type": "code",
   "execution_count": 24,
   "metadata": {},
   "outputs": [],
   "source": [
    "l1 = [1,2,5,9]\n",
    "l2 = [7,8,9]\n",
    "skip1 = 1\n",
    "skip2 = 1"
   ]
  },
  {
   "cell_type": "code",
   "execution_count": 25,
   "metadata": {},
   "outputs": [
    {
     "data": {
      "text/plain": [
       "([9], 4)"
      ]
     },
     "execution_count": 25,
     "metadata": {},
     "output_type": "execute_result"
    }
   ],
   "source": [
    "_merge(l1, l2, skip1, skip2)"
   ]
  },
  {
   "cell_type": "code",
   "execution_count": 35,
   "metadata": {},
   "outputs": [],
   "source": [
    "import pickle\n",
    "\n",
    "a = {'ip': '3.12.132.75', 'port': '9999', 'name': 'execute_query'}\n",
    "\n",
    "with open('project2_index_details.pickle', 'wb') as handle:\n",
    "    pickle.dump(a, handle, protocol=pickle.HIGHEST_PROTOCOL)"
   ]
  },
  {
   "cell_type": "code",
   "execution_count": 36,
   "metadata": {},
   "outputs": [
    {
     "name": "stdout",
     "output_type": "stream",
     "text": [
      "{'Response': {'daatAnd': {'errors': [], 'score': 3.0}, 'daatAndSkip': {'errors': [{'check_daatAndSkip_is hydroxychloroquine effective?': 'Number of comparisons not in desired range i.e. +- 5%'}], 'score': 3.5}, 'daatAndSkipTfIdf': {'errors': [{'check_daatAndSkipTfIdf_is hydroxychloroquine effective?': 'Number of comparisons not in desired range i.e. +- 5%'}], 'score': 1.25}, 'daatAndTfIdf': {'errors': [], 'score': 1.5}, 'postingsList': {'errors': [], 'score': 1.5}, 'postingsListSkip': {'errors': [{'check_postingsListSkip_from an epidemic to a pandemic': 'PL not matching'}, {'check_postingsListSkip_is hydroxychloroquine effective?': 'PL not matching'}], 'score': 1}, 'time_taken': '0.06081557273864746', 'total_score': 11.75}}\n"
     ]
    }
   ],
   "source": [
    "import requests\n",
    "import pickle\n",
    "\n",
    "payload = pickle.load(open(\"project2_index_details.pickle\", \"rb\"))\n",
    "res = requests.post(\"http://3.82.161.49:9998/grade_index\", json=payload, timeout=600)\n",
    "res = res.json()\n",
    "print(res)"
   ]
  },
  {
   "cell_type": "code",
   "execution_count": 37,
   "metadata": {},
   "outputs": [],
   "source": [
    "with open('project2_index_details.pickle', 'rb') as f:\n",
    "    b = pickle.load(f)"
   ]
  },
  {
   "cell_type": "code",
   "execution_count": 39,
   "metadata": {},
   "outputs": [
    {
     "data": {
      "text/plain": [
       "{'ip': '3.12.132.75', 'port': '9999', 'name': 'execute_query'}"
      ]
     },
     "execution_count": 39,
     "metadata": {},
     "output_type": "execute_result"
    }
   ],
   "source": [
    "b"
   ]
  },
  {
   "cell_type": "code",
   "execution_count": null,
   "metadata": {},
   "outputs": [],
   "source": []
  }
 ],
 "metadata": {
  "colab": {
   "name": "Project2_Recitation.ipynb",
   "provenance": [],
   "toc_visible": true
  },
  "kernelspec": {
   "display_name": "Python 3",
   "language": "python",
   "name": "python3"
  },
  "language_info": {
   "codemirror_mode": {
    "name": "ipython",
    "version": 3
   },
   "file_extension": ".py",
   "mimetype": "text/x-python",
   "name": "python",
   "nbconvert_exporter": "python",
   "pygments_lexer": "ipython3",
   "version": "3.6.7"
  }
 },
 "nbformat": 4,
 "nbformat_minor": 1
}
